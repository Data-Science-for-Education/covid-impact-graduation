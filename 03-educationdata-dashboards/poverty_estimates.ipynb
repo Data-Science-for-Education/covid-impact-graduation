{
 "metadata": {
  "language_info": {
   "codemirror_mode": {
    "name": "ipython",
    "version": 3
   },
   "file_extension": ".py",
   "mimetype": "text/x-python",
   "name": "python",
   "nbconvert_exporter": "python",
   "pygments_lexer": "ipython3",
   "version": "3.8.5-final"
  },
  "orig_nbformat": 2,
  "kernelspec": {
   "name": "python3",
   "display_name": "Python 3"
  }
 },
 "nbformat": 4,
 "nbformat_minor": 2,
 "cells": [
  {
   "source": [
    "# Poverty Estimates Data\n",
    "\n",
    "District level data on the size of the population, the size of the school age population, and the size of the school age population that is in poverty.\n",
    "\n",
    "\n",
    "Codebook, Districts SAIPE, 1995–2018 15.5 KB\n",
    "\n",
    "Districts SAIPE, 1995–2018 24.9 MB\n"
   ],
   "cell_type": "markdown",
   "metadata": {}
  },
  {
   "cell_type": "code",
   "execution_count": 2,
   "metadata": {},
   "outputs": [
    {
     "output_type": "stream",
     "name": "stdout",
     "text": [
      "Index(['leaid', 'year', 'fips', 'district_id', 'district_name',\n       'est_population_total', 'est_population_5_17',\n       'est_population_5_17_poverty', 'est_population_5_17_poverty_pct',\n       'est_population_5_17_pct'],\n      dtype='object')\n"
     ]
    },
    {
     "output_type": "execute_result",
     "data": {
      "text/plain": [
       "          leaid  year  fips  district_id                      district_name  \\\n",
       "0        100005  1995     1            5          ALBERTVILLE CITY SCH DIST   \n",
       "1        100030  1995     1           30       ALEXANDER CITY CITY SCH DIST   \n",
       "2        100060  1995     1           60            ANDALUSIA CITY SCH DIST   \n",
       "3        100090  1995     1           90             ANNISTON CITY SCH DIST   \n",
       "4        100100  1995     1          100                 ARAB CITY SCH DIST   \n",
       "...         ...   ...   ...          ...                                ...   \n",
       "303144  5606240  2018    56         6240  Washakie County School District 1   \n",
       "303145  5605820  2018    56         5820  Washakie County School District 2   \n",
       "303146  5604830  2018    56         4830    Weston County School District 1   \n",
       "303147  5606090  2018    56         6090    Weston County School District 7   \n",
       "303148  7200030  2018    72           30                        Puerto Rico   \n",
       "\n",
       "        est_population_total  est_population_5_17  \\\n",
       "0                      16294                 2779   \n",
       "1                      17704                 3258   \n",
       "2                       9602                 1706   \n",
       "3                      27394                 4907   \n",
       "4                       7984                 1299   \n",
       "...                      ...                  ...   \n",
       "303144                  7208                 1297   \n",
       "303145                   677                   90   \n",
       "303146                  5497                  834   \n",
       "303147                  1470                  254   \n",
       "303148               3195153               467390   \n",
       "\n",
       "        est_population_5_17_poverty  est_population_5_17_poverty_pct  \\\n",
       "0                               506                         0.182080   \n",
       "1                               850                         0.260896   \n",
       "2                               571                         0.334701   \n",
       "3                              2015                         0.410638   \n",
       "4                               223                         0.171671   \n",
       "...                             ...                              ...   \n",
       "303144                          183                         0.141095   \n",
       "303145                            8                         0.088889   \n",
       "303146                          135                         0.161871   \n",
       "303147                           15                         0.059055   \n",
       "303148                       253216                         0.541766   \n",
       "\n",
       "        est_population_5_17_pct  \n",
       "0                      0.170554  \n",
       "1                      0.184026  \n",
       "2                      0.177671  \n",
       "3                      0.179127  \n",
       "4                      0.162700  \n",
       "...                         ...  \n",
       "303144                 0.179939  \n",
       "303145                 0.132939  \n",
       "303146                 0.151719  \n",
       "303147                 0.172789  \n",
       "303148                 0.146281  \n",
       "\n",
       "[303149 rows x 10 columns]"
      ],
      "text/html": "<div>\n<style scoped>\n    .dataframe tbody tr th:only-of-type {\n        vertical-align: middle;\n    }\n\n    .dataframe tbody tr th {\n        vertical-align: top;\n    }\n\n    .dataframe thead th {\n        text-align: right;\n    }\n</style>\n<table border=\"1\" class=\"dataframe\">\n  <thead>\n    <tr style=\"text-align: right;\">\n      <th></th>\n      <th>leaid</th>\n      <th>year</th>\n      <th>fips</th>\n      <th>district_id</th>\n      <th>district_name</th>\n      <th>est_population_total</th>\n      <th>est_population_5_17</th>\n      <th>est_population_5_17_poverty</th>\n      <th>est_population_5_17_poverty_pct</th>\n      <th>est_population_5_17_pct</th>\n    </tr>\n  </thead>\n  <tbody>\n    <tr>\n      <th>0</th>\n      <td>100005</td>\n      <td>1995</td>\n      <td>1</td>\n      <td>5</td>\n      <td>ALBERTVILLE CITY SCH DIST</td>\n      <td>16294</td>\n      <td>2779</td>\n      <td>506</td>\n      <td>0.182080</td>\n      <td>0.170554</td>\n    </tr>\n    <tr>\n      <th>1</th>\n      <td>100030</td>\n      <td>1995</td>\n      <td>1</td>\n      <td>30</td>\n      <td>ALEXANDER CITY CITY SCH DIST</td>\n      <td>17704</td>\n      <td>3258</td>\n      <td>850</td>\n      <td>0.260896</td>\n      <td>0.184026</td>\n    </tr>\n    <tr>\n      <th>2</th>\n      <td>100060</td>\n      <td>1995</td>\n      <td>1</td>\n      <td>60</td>\n      <td>ANDALUSIA CITY SCH DIST</td>\n      <td>9602</td>\n      <td>1706</td>\n      <td>571</td>\n      <td>0.334701</td>\n      <td>0.177671</td>\n    </tr>\n    <tr>\n      <th>3</th>\n      <td>100090</td>\n      <td>1995</td>\n      <td>1</td>\n      <td>90</td>\n      <td>ANNISTON CITY SCH DIST</td>\n      <td>27394</td>\n      <td>4907</td>\n      <td>2015</td>\n      <td>0.410638</td>\n      <td>0.179127</td>\n    </tr>\n    <tr>\n      <th>4</th>\n      <td>100100</td>\n      <td>1995</td>\n      <td>1</td>\n      <td>100</td>\n      <td>ARAB CITY SCH DIST</td>\n      <td>7984</td>\n      <td>1299</td>\n      <td>223</td>\n      <td>0.171671</td>\n      <td>0.162700</td>\n    </tr>\n    <tr>\n      <th>...</th>\n      <td>...</td>\n      <td>...</td>\n      <td>...</td>\n      <td>...</td>\n      <td>...</td>\n      <td>...</td>\n      <td>...</td>\n      <td>...</td>\n      <td>...</td>\n      <td>...</td>\n    </tr>\n    <tr>\n      <th>303144</th>\n      <td>5606240</td>\n      <td>2018</td>\n      <td>56</td>\n      <td>6240</td>\n      <td>Washakie County School District 1</td>\n      <td>7208</td>\n      <td>1297</td>\n      <td>183</td>\n      <td>0.141095</td>\n      <td>0.179939</td>\n    </tr>\n    <tr>\n      <th>303145</th>\n      <td>5605820</td>\n      <td>2018</td>\n      <td>56</td>\n      <td>5820</td>\n      <td>Washakie County School District 2</td>\n      <td>677</td>\n      <td>90</td>\n      <td>8</td>\n      <td>0.088889</td>\n      <td>0.132939</td>\n    </tr>\n    <tr>\n      <th>303146</th>\n      <td>5604830</td>\n      <td>2018</td>\n      <td>56</td>\n      <td>4830</td>\n      <td>Weston County School District 1</td>\n      <td>5497</td>\n      <td>834</td>\n      <td>135</td>\n      <td>0.161871</td>\n      <td>0.151719</td>\n    </tr>\n    <tr>\n      <th>303147</th>\n      <td>5606090</td>\n      <td>2018</td>\n      <td>56</td>\n      <td>6090</td>\n      <td>Weston County School District 7</td>\n      <td>1470</td>\n      <td>254</td>\n      <td>15</td>\n      <td>0.059055</td>\n      <td>0.172789</td>\n    </tr>\n    <tr>\n      <th>303148</th>\n      <td>7200030</td>\n      <td>2018</td>\n      <td>72</td>\n      <td>30</td>\n      <td>Puerto Rico</td>\n      <td>3195153</td>\n      <td>467390</td>\n      <td>253216</td>\n      <td>0.541766</td>\n      <td>0.146281</td>\n    </tr>\n  </tbody>\n</table>\n<p>303149 rows × 10 columns</p>\n</div>"
     },
     "metadata": {},
     "execution_count": 2
    }
   ],
   "source": [
    "import pandas as pd\n",
    "\n",
    "poverty_estimates = pd.read_csv('poverty_estimates/districts_saipe.csv')\n",
    "print(poverty_estimates.columns)\n",
    "poverty_estimates"
   ]
  },
  {
   "cell_type": "code",
   "execution_count": 6,
   "metadata": {},
   "outputs": [
    {
     "output_type": "execute_result",
     "data": {
      "text/plain": [
       "          leaid  year  fips  district_id                      district_name  \\\n",
       "0        100005  1995     1            5          ALBERTVILLE CITY SCH DIST   \n",
       "1        100030  1995     1           30       ALEXANDER CITY CITY SCH DIST   \n",
       "2        100060  1995     1           60            ANDALUSIA CITY SCH DIST   \n",
       "3        100090  1995     1           90             ANNISTON CITY SCH DIST   \n",
       "4        100100  1995     1          100                 ARAB CITY SCH DIST   \n",
       "...         ...   ...   ...          ...                                ...   \n",
       "303144  5606240  2018    56         6240  Washakie County School District 1   \n",
       "303145  5605820  2018    56         5820  Washakie County School District 2   \n",
       "303146  5604830  2018    56         4830    Weston County School District 1   \n",
       "303147  5606090  2018    56         6090    Weston County School District 7   \n",
       "303148  7200030  2018    72           30                        Puerto Rico   \n",
       "\n",
       "        est_population_total  est_population_5_17  \\\n",
       "0                      16294                 2779   \n",
       "1                      17704                 3258   \n",
       "2                       9602                 1706   \n",
       "3                      27394                 4907   \n",
       "4                       7984                 1299   \n",
       "...                      ...                  ...   \n",
       "303144                  7208                 1297   \n",
       "303145                   677                   90   \n",
       "303146                  5497                  834   \n",
       "303147                  1470                  254   \n",
       "303148               3195153               467390   \n",
       "\n",
       "        est_population_5_17_poverty  est_population_5_17_poverty_pct  \\\n",
       "0                               506                         0.182080   \n",
       "1                               850                         0.260896   \n",
       "2                               571                         0.334701   \n",
       "3                              2015                         0.410638   \n",
       "4                               223                         0.171671   \n",
       "...                             ...                              ...   \n",
       "303144                          183                         0.141095   \n",
       "303145                            8                         0.088889   \n",
       "303146                          135                         0.161871   \n",
       "303147                           15                         0.059055   \n",
       "303148                       253216                         0.541766   \n",
       "\n",
       "        est_population_5_17_pct   state_name  \n",
       "0                      0.170554      Alabama  \n",
       "1                      0.184026      Alabama  \n",
       "2                      0.177671      Alabama  \n",
       "3                      0.179127      Alabama  \n",
       "4                      0.162700      Alabama  \n",
       "...                         ...          ...  \n",
       "303144                 0.179939      Wyoming  \n",
       "303145                 0.132939      Wyoming  \n",
       "303146                 0.151719      Wyoming  \n",
       "303147                 0.172789      Wyoming  \n",
       "303148                 0.146281  Puerto Rico  \n",
       "\n",
       "[303149 rows x 11 columns]"
      ],
      "text/html": "<div>\n<style scoped>\n    .dataframe tbody tr th:only-of-type {\n        vertical-align: middle;\n    }\n\n    .dataframe tbody tr th {\n        vertical-align: top;\n    }\n\n    .dataframe thead th {\n        text-align: right;\n    }\n</style>\n<table border=\"1\" class=\"dataframe\">\n  <thead>\n    <tr style=\"text-align: right;\">\n      <th></th>\n      <th>leaid</th>\n      <th>year</th>\n      <th>fips</th>\n      <th>district_id</th>\n      <th>district_name</th>\n      <th>est_population_total</th>\n      <th>est_population_5_17</th>\n      <th>est_population_5_17_poverty</th>\n      <th>est_population_5_17_poverty_pct</th>\n      <th>est_population_5_17_pct</th>\n      <th>state_name</th>\n    </tr>\n  </thead>\n  <tbody>\n    <tr>\n      <th>0</th>\n      <td>100005</td>\n      <td>1995</td>\n      <td>1</td>\n      <td>5</td>\n      <td>ALBERTVILLE CITY SCH DIST</td>\n      <td>16294</td>\n      <td>2779</td>\n      <td>506</td>\n      <td>0.182080</td>\n      <td>0.170554</td>\n      <td>Alabama</td>\n    </tr>\n    <tr>\n      <th>1</th>\n      <td>100030</td>\n      <td>1995</td>\n      <td>1</td>\n      <td>30</td>\n      <td>ALEXANDER CITY CITY SCH DIST</td>\n      <td>17704</td>\n      <td>3258</td>\n      <td>850</td>\n      <td>0.260896</td>\n      <td>0.184026</td>\n      <td>Alabama</td>\n    </tr>\n    <tr>\n      <th>2</th>\n      <td>100060</td>\n      <td>1995</td>\n      <td>1</td>\n      <td>60</td>\n      <td>ANDALUSIA CITY SCH DIST</td>\n      <td>9602</td>\n      <td>1706</td>\n      <td>571</td>\n      <td>0.334701</td>\n      <td>0.177671</td>\n      <td>Alabama</td>\n    </tr>\n    <tr>\n      <th>3</th>\n      <td>100090</td>\n      <td>1995</td>\n      <td>1</td>\n      <td>90</td>\n      <td>ANNISTON CITY SCH DIST</td>\n      <td>27394</td>\n      <td>4907</td>\n      <td>2015</td>\n      <td>0.410638</td>\n      <td>0.179127</td>\n      <td>Alabama</td>\n    </tr>\n    <tr>\n      <th>4</th>\n      <td>100100</td>\n      <td>1995</td>\n      <td>1</td>\n      <td>100</td>\n      <td>ARAB CITY SCH DIST</td>\n      <td>7984</td>\n      <td>1299</td>\n      <td>223</td>\n      <td>0.171671</td>\n      <td>0.162700</td>\n      <td>Alabama</td>\n    </tr>\n    <tr>\n      <th>...</th>\n      <td>...</td>\n      <td>...</td>\n      <td>...</td>\n      <td>...</td>\n      <td>...</td>\n      <td>...</td>\n      <td>...</td>\n      <td>...</td>\n      <td>...</td>\n      <td>...</td>\n      <td>...</td>\n    </tr>\n    <tr>\n      <th>303144</th>\n      <td>5606240</td>\n      <td>2018</td>\n      <td>56</td>\n      <td>6240</td>\n      <td>Washakie County School District 1</td>\n      <td>7208</td>\n      <td>1297</td>\n      <td>183</td>\n      <td>0.141095</td>\n      <td>0.179939</td>\n      <td>Wyoming</td>\n    </tr>\n    <tr>\n      <th>303145</th>\n      <td>5605820</td>\n      <td>2018</td>\n      <td>56</td>\n      <td>5820</td>\n      <td>Washakie County School District 2</td>\n      <td>677</td>\n      <td>90</td>\n      <td>8</td>\n      <td>0.088889</td>\n      <td>0.132939</td>\n      <td>Wyoming</td>\n    </tr>\n    <tr>\n      <th>303146</th>\n      <td>5604830</td>\n      <td>2018</td>\n      <td>56</td>\n      <td>4830</td>\n      <td>Weston County School District 1</td>\n      <td>5497</td>\n      <td>834</td>\n      <td>135</td>\n      <td>0.161871</td>\n      <td>0.151719</td>\n      <td>Wyoming</td>\n    </tr>\n    <tr>\n      <th>303147</th>\n      <td>5606090</td>\n      <td>2018</td>\n      <td>56</td>\n      <td>6090</td>\n      <td>Weston County School District 7</td>\n      <td>1470</td>\n      <td>254</td>\n      <td>15</td>\n      <td>0.059055</td>\n      <td>0.172789</td>\n      <td>Wyoming</td>\n    </tr>\n    <tr>\n      <th>303148</th>\n      <td>7200030</td>\n      <td>2018</td>\n      <td>72</td>\n      <td>30</td>\n      <td>Puerto Rico</td>\n      <td>3195153</td>\n      <td>467390</td>\n      <td>253216</td>\n      <td>0.541766</td>\n      <td>0.146281</td>\n      <td>Puerto Rico</td>\n    </tr>\n  </tbody>\n</table>\n<p>303149 rows × 11 columns</p>\n</div>"
     },
     "metadata": {},
     "execution_count": 6
    }
   ],
   "source": [
    "# Creates Code dictionaries to help add human readable Columns to dataframe\n",
    "value_mappings = pd.read_excel(open('poverty_estimates/codebook_districts_saipe (1).xls', 'rb'),\n",
    "              sheet_name='values')\n",
    "\n",
    "fips_codes = value_mappings[value_mappings[\"format\"] == \"fips\"].set_index('code').code_label.to_dict()\n",
    "poverty_estimates[\"state_name\"] = poverty_estimates[\"fips\"].map(fips_codes)\n",
    "poverty_estimates"
   ]
  },
  {
   "source": [
    "## USA Poverty Ratio of children 5-17 over Time "
   ],
   "cell_type": "markdown",
   "metadata": {}
  },
  {
   "cell_type": "code",
   "execution_count": 17,
   "metadata": {},
   "outputs": [
    {
     "output_type": "execute_result",
     "data": {
      "text/plain": [
       "                    est_population_total  est_population_5_17  \\\n",
       "year state_name                                                 \n",
       "1995 Alabama                     4287178               780999   \n",
       "     Alaska                       604966               136196   \n",
       "     Arizona                     5981745               862347   \n",
       "     Arkansas                    2506293               482590   \n",
       "     California                 41303549              6156066   \n",
       "...                                  ...                  ...   \n",
       "2018 Virginia                    8517685              1358868   \n",
       "     Washington                  7535591              1200584   \n",
       "     West Virginia               1805832               268903   \n",
       "     Wisconsin                   6030331               941721   \n",
       "     Wyoming                      577438                98820   \n",
       "\n",
       "                    est_population_5_17_poverty  poverty_ratio  \n",
       "year state_name                                                 \n",
       "1995 Alabama                             187857       0.240534  \n",
       "     Alaska                               15234       0.111854  \n",
       "     Arizona                             187117       0.216986  \n",
       "     Arkansas                            119221       0.247044  \n",
       "     California                         1363660       0.221515  \n",
       "...                                         ...            ...  \n",
       "2018 Virginia                            169939       0.125059  \n",
       "     Washington                          137938       0.114892  \n",
       "     West Virginia                        56706       0.210879  \n",
       "     Wisconsin                           118597       0.125936  \n",
       "     Wyoming                              11227       0.113611  \n",
       "\n",
       "[1138 rows x 4 columns]"
      ],
      "text/html": "<div>\n<style scoped>\n    .dataframe tbody tr th:only-of-type {\n        vertical-align: middle;\n    }\n\n    .dataframe tbody tr th {\n        vertical-align: top;\n    }\n\n    .dataframe thead th {\n        text-align: right;\n    }\n</style>\n<table border=\"1\" class=\"dataframe\">\n  <thead>\n    <tr style=\"text-align: right;\">\n      <th></th>\n      <th></th>\n      <th>est_population_total</th>\n      <th>est_population_5_17</th>\n      <th>est_population_5_17_poverty</th>\n      <th>poverty_ratio</th>\n    </tr>\n    <tr>\n      <th>year</th>\n      <th>state_name</th>\n      <th></th>\n      <th></th>\n      <th></th>\n      <th></th>\n    </tr>\n  </thead>\n  <tbody>\n    <tr>\n      <th rowspan=\"5\" valign=\"top\">1995</th>\n      <th>Alabama</th>\n      <td>4287178</td>\n      <td>780999</td>\n      <td>187857</td>\n      <td>0.240534</td>\n    </tr>\n    <tr>\n      <th>Alaska</th>\n      <td>604966</td>\n      <td>136196</td>\n      <td>15234</td>\n      <td>0.111854</td>\n    </tr>\n    <tr>\n      <th>Arizona</th>\n      <td>5981745</td>\n      <td>862347</td>\n      <td>187117</td>\n      <td>0.216986</td>\n    </tr>\n    <tr>\n      <th>Arkansas</th>\n      <td>2506293</td>\n      <td>482590</td>\n      <td>119221</td>\n      <td>0.247044</td>\n    </tr>\n    <tr>\n      <th>California</th>\n      <td>41303549</td>\n      <td>6156066</td>\n      <td>1363660</td>\n      <td>0.221515</td>\n    </tr>\n    <tr>\n      <th>...</th>\n      <th>...</th>\n      <td>...</td>\n      <td>...</td>\n      <td>...</td>\n      <td>...</td>\n    </tr>\n    <tr>\n      <th rowspan=\"5\" valign=\"top\">2018</th>\n      <th>Virginia</th>\n      <td>8517685</td>\n      <td>1358868</td>\n      <td>169939</td>\n      <td>0.125059</td>\n    </tr>\n    <tr>\n      <th>Washington</th>\n      <td>7535591</td>\n      <td>1200584</td>\n      <td>137938</td>\n      <td>0.114892</td>\n    </tr>\n    <tr>\n      <th>West Virginia</th>\n      <td>1805832</td>\n      <td>268903</td>\n      <td>56706</td>\n      <td>0.210879</td>\n    </tr>\n    <tr>\n      <th>Wisconsin</th>\n      <td>6030331</td>\n      <td>941721</td>\n      <td>118597</td>\n      <td>0.125936</td>\n    </tr>\n    <tr>\n      <th>Wyoming</th>\n      <td>577438</td>\n      <td>98820</td>\n      <td>11227</td>\n      <td>0.113611</td>\n    </tr>\n  </tbody>\n</table>\n<p>1138 rows × 4 columns</p>\n</div>"
     },
     "metadata": {},
     "execution_count": 17
    }
   ],
   "source": [
    "\n",
    "poverty_state_df = poverty_estimates[[\"year\", \"state_name\", \"est_population_total\", \"est_population_5_17\", \"est_population_5_17_poverty\"]].groupby([\"year\", \"state_name\"]).sum()\n",
    "\n",
    "poverty_state_df[\"poverty_ratio\"] = poverty_state_df[\"est_population_5_17_poverty\"] / poverty_state_df[\"est_population_5_17\"]\n",
    "\n",
    "poverty_state_df"
   ]
  },
  {
   "cell_type": "code",
   "execution_count": null,
   "metadata": {},
   "outputs": [],
   "source": [
    "# Create a Poverty Line Graph over time. \n"
   ]
  }
 ]
}