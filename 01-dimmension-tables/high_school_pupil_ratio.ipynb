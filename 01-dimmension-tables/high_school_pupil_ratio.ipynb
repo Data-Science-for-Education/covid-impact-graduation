{
 "metadata": {
  "language_info": {
   "codemirror_mode": {
    "name": "ipython",
    "version": 3
   },
   "file_extension": ".py",
   "mimetype": "text/x-python",
   "name": "python",
   "nbconvert_exporter": "python",
   "pygments_lexer": "ipython3",
   "version": "3.8.5-final"
  },
  "orig_nbformat": 2,
  "kernelspec": {
   "name": "python3",
   "display_name": "Python 3"
  }
 },
 "nbformat": 4,
 "nbformat_minor": 2,
 "cells": [
  {
   "cell_type": "code",
   "execution_count": 1,
   "metadata": {},
   "outputs": [
    {
     "output_type": "execute_result",
     "data": {
      "text/plain": [
       "   State Name  Pupil/Teacher Ratio [State] 2018-19  \\\n",
       "0     ALABAMA                                17.56   \n",
       "1      ALASKA                                17.10   \n",
       "2     ARIZONA                                23.53   \n",
       "3    ARKANSAS                                13.03   \n",
       "4  CALIFORNIA                                23.08   \n",
       "\n",
       "   Pupil/Teacher Ratio [State] 2017-18  Pupil/Teacher Ratio [State] 2016-17  \\\n",
       "0                                17.76                                17.51   \n",
       "1                                17.16                                16.96   \n",
       "2                                23.21                                23.29   \n",
       "3                                13.86                                13.81   \n",
       "4                                23.22                                23.26   \n",
       "\n",
       "   Pupil/Teacher Ratio [State] 2015-16  Secondary Teachers [State] 2018-19  \\\n",
       "0                                18.25                            19690.76   \n",
       "1                                16.91                             3666.91   \n",
       "2                                23.13                            14795.56   \n",
       "3                                13.75                            18229.83   \n",
       "4                                23.63                            87079.49   \n",
       "\n",
       "   Secondary Teachers [State] 2017-18  Secondary Teachers [State] 2016-17  \\\n",
       "0                            19501.06                            20056.80   \n",
       "1                             3673.20                             3754.45   \n",
       "2                            14568.66                            15084.87   \n",
       "3                            14862.39                            14767.68   \n",
       "4                            85849.37                            86139.96   \n",
       "\n",
       "   Secondary Teachers [State] 2015-16 Ungraded Teachers [State] 2018-19  \\\n",
       "0                            19079.63                           =\"0.00\"   \n",
       "1                             3507.40                                 †   \n",
       "2                            14488.66                                 †   \n",
       "3                            14714.25                           2529.86   \n",
       "4                            84322.38                           3987.17   \n",
       "\n",
       "  Ungraded Teachers [State] 2017-18 Ungraded Teachers [State] 2016-17  \\\n",
       "0                           =\"0.00\"                                 †   \n",
       "1                                 †                                 †   \n",
       "2                                 †                                 †   \n",
       "3                           2760.19                           2645.28   \n",
       "4                           4271.68                           2546.84   \n",
       "\n",
       "  Ungraded Teachers [State] 2015-16  \n",
       "0                                 †  \n",
       "1                                 †  \n",
       "2                                 †  \n",
       "3                           2615.95  \n",
       "4                           2960.27  "
      ],
      "text/html": "<div>\n<style scoped>\n    .dataframe tbody tr th:only-of-type {\n        vertical-align: middle;\n    }\n\n    .dataframe tbody tr th {\n        vertical-align: top;\n    }\n\n    .dataframe thead th {\n        text-align: right;\n    }\n</style>\n<table border=\"1\" class=\"dataframe\">\n  <thead>\n    <tr style=\"text-align: right;\">\n      <th></th>\n      <th>State Name</th>\n      <th>Pupil/Teacher Ratio [State] 2018-19</th>\n      <th>Pupil/Teacher Ratio [State] 2017-18</th>\n      <th>Pupil/Teacher Ratio [State] 2016-17</th>\n      <th>Pupil/Teacher Ratio [State] 2015-16</th>\n      <th>Secondary Teachers [State] 2018-19</th>\n      <th>Secondary Teachers [State] 2017-18</th>\n      <th>Secondary Teachers [State] 2016-17</th>\n      <th>Secondary Teachers [State] 2015-16</th>\n      <th>Ungraded Teachers [State] 2018-19</th>\n      <th>Ungraded Teachers [State] 2017-18</th>\n      <th>Ungraded Teachers [State] 2016-17</th>\n      <th>Ungraded Teachers [State] 2015-16</th>\n    </tr>\n  </thead>\n  <tbody>\n    <tr>\n      <th>0</th>\n      <td>ALABAMA</td>\n      <td>17.56</td>\n      <td>17.76</td>\n      <td>17.51</td>\n      <td>18.25</td>\n      <td>19690.76</td>\n      <td>19501.06</td>\n      <td>20056.80</td>\n      <td>19079.63</td>\n      <td>=\"0.00\"</td>\n      <td>=\"0.00\"</td>\n      <td>†</td>\n      <td>†</td>\n    </tr>\n    <tr>\n      <th>1</th>\n      <td>ALASKA</td>\n      <td>17.10</td>\n      <td>17.16</td>\n      <td>16.96</td>\n      <td>16.91</td>\n      <td>3666.91</td>\n      <td>3673.20</td>\n      <td>3754.45</td>\n      <td>3507.40</td>\n      <td>†</td>\n      <td>†</td>\n      <td>†</td>\n      <td>†</td>\n    </tr>\n    <tr>\n      <th>2</th>\n      <td>ARIZONA</td>\n      <td>23.53</td>\n      <td>23.21</td>\n      <td>23.29</td>\n      <td>23.13</td>\n      <td>14795.56</td>\n      <td>14568.66</td>\n      <td>15084.87</td>\n      <td>14488.66</td>\n      <td>†</td>\n      <td>†</td>\n      <td>†</td>\n      <td>†</td>\n    </tr>\n    <tr>\n      <th>3</th>\n      <td>ARKANSAS</td>\n      <td>13.03</td>\n      <td>13.86</td>\n      <td>13.81</td>\n      <td>13.75</td>\n      <td>18229.83</td>\n      <td>14862.39</td>\n      <td>14767.68</td>\n      <td>14714.25</td>\n      <td>2529.86</td>\n      <td>2760.19</td>\n      <td>2645.28</td>\n      <td>2615.95</td>\n    </tr>\n    <tr>\n      <th>4</th>\n      <td>CALIFORNIA</td>\n      <td>23.08</td>\n      <td>23.22</td>\n      <td>23.26</td>\n      <td>23.63</td>\n      <td>87079.49</td>\n      <td>85849.37</td>\n      <td>86139.96</td>\n      <td>84322.38</td>\n      <td>3987.17</td>\n      <td>4271.68</td>\n      <td>2546.84</td>\n      <td>2960.27</td>\n    </tr>\n  </tbody>\n</table>\n</div>"
     },
     "metadata": {},
     "execution_count": 1
    }
   ],
   "source": [
    "# 160363\n",
    "\n",
    "import pandas as pd\n",
    "import csv\n",
    "import matplotlib\n",
    "\n",
    "df = pd.read_csv(\"./ELSI_csv_export_6374279036158069018870.csv\")\n",
    "df.head()"
   ]
  },
  {
   "cell_type": "code",
   "execution_count": 3,
   "metadata": {},
   "outputs": [
    {
     "output_type": "error",
     "ename": "KeyError",
     "evalue": "'COLORADO'",
     "traceback": [
      "\u001b[0;31m---------------------------------------------------------------------------\u001b[0m",
      "\u001b[0;31mKeyError\u001b[0m                                  Traceback (most recent call last)",
      "\u001b[0;32m<ipython-input-3-784d584c2ff7>\u001b[0m in \u001b[0;36m<module>\u001b[0;34m\u001b[0m\n\u001b[1;32m      9\u001b[0m \u001b[0m_\u001b[0m\u001b[0;34m,\u001b[0m \u001b[0max\u001b[0m \u001b[0;34m=\u001b[0m \u001b[0mplt\u001b[0m\u001b[0;34m.\u001b[0m\u001b[0msubplots\u001b[0m\u001b[0;34m(\u001b[0m\u001b[0;34m)\u001b[0m\u001b[0;34m\u001b[0m\u001b[0;34m\u001b[0m\u001b[0m\n\u001b[1;32m     10\u001b[0m \u001b[0;32mfor\u001b[0m \u001b[0mkey\u001b[0m\u001b[0;34m,\u001b[0m \u001b[0mgroup\u001b[0m \u001b[0;32min\u001b[0m \u001b[0mdf\u001b[0m\u001b[0;34m.\u001b[0m\u001b[0mgroupby\u001b[0m\u001b[0;34m(\u001b[0m\u001b[0;34m\"State Name\"\u001b[0m\u001b[0;34m)\u001b[0m\u001b[0;34m:\u001b[0m\u001b[0;34m\u001b[0m\u001b[0;34m\u001b[0m\u001b[0m\n\u001b[0;32m---> 11\u001b[0;31m     \u001b[0mgroup\u001b[0m\u001b[0;34m.\u001b[0m\u001b[0mplot\u001b[0m\u001b[0;34m.\u001b[0m\u001b[0mscatter\u001b[0m\u001b[0;34m(\u001b[0m\u001b[0max\u001b[0m\u001b[0;34m=\u001b[0m\u001b[0max\u001b[0m\u001b[0;34m,\u001b[0m \u001b[0mx\u001b[0m\u001b[0;34m=\u001b[0m\u001b[0;34m\"Pupil/Teacher Ratio [State] 2018-19\"\u001b[0m\u001b[0;34m,\u001b[0m \u001b[0my\u001b[0m\u001b[0;34m=\u001b[0m\u001b[0;34m\"Secondary Teachers [State] 2018-19\"\u001b[0m\u001b[0;34m,\u001b[0m \u001b[0mlabel\u001b[0m\u001b[0;34m=\u001b[0m\u001b[0mkey\u001b[0m\u001b[0;34m,\u001b[0m \u001b[0mcolor\u001b[0m\u001b[0;34m=\u001b[0m\u001b[0mcolors\u001b[0m\u001b[0;34m[\u001b[0m\u001b[0mkey\u001b[0m\u001b[0;34m]\u001b[0m\u001b[0;34m)\u001b[0m\u001b[0;34m\u001b[0m\u001b[0;34m\u001b[0m\u001b[0m\n\u001b[0m\u001b[1;32m     12\u001b[0m \u001b[0max\u001b[0m\u001b[0;34m.\u001b[0m\u001b[0mset_xlabel\u001b[0m\u001b[0;34m(\u001b[0m\u001b[0;34m\"GDP per capita (USD)\"\u001b[0m\u001b[0;34m)\u001b[0m\u001b[0;34m\u001b[0m\u001b[0;34m\u001b[0m\u001b[0m\n\u001b[1;32m     13\u001b[0m \u001b[0max\u001b[0m\u001b[0;34m.\u001b[0m\u001b[0mset_ylabel\u001b[0m\u001b[0;34m(\u001b[0m\u001b[0;34m\"Life expectancy (years)\"\u001b[0m\u001b[0;34m)\u001b[0m\u001b[0;34m\u001b[0m\u001b[0;34m\u001b[0m\u001b[0m\n",
      "\u001b[0;31mKeyError\u001b[0m: 'COLORADO'"
     ]
    }
   ],
   "source": [
    "from matplotlib import pyplot as plt\n",
    "colors = {\n",
    "    \"ALABAMA\": \"green\",\n",
    "    \"ALASKA\": \"orange\",\n",
    "    \"ARIZONA\": \"red\",\n",
    "    \"ARKANSAS\": \"purple\",\n",
    "    \"CALIFORNIA\": \"blue\",\n",
    "}\n",
    "# Filter only our colors \n",
    "df[\"State Name\"]\n",
    "\n",
    "\n",
    "_, ax = plt.subplots()\n",
    "for key, group in df.groupby(\"State Name\"):\n",
    "    group.plot.scatter(ax=ax, x=\"Pupil/Teacher Ratio [State] 2018-19\", y=\"Secondary Teachers [State] 2018-19\", label=key, color=colors[key])\n",
    "ax.set_xlabel(\"GDP per capita (USD)\")\n",
    "ax.set_ylabel(\"Life expectancy (years)\")\n",
    "_ = ax.set_title(\n",
    "    \"Africa's countries are almost all low GDP compared to Europe and America\"\n",
    ")"
   ]
  },
  {
   "cell_type": "code",
   "execution_count": null,
   "metadata": {},
   "outputs": [],
   "source": []
  }
 ]
}